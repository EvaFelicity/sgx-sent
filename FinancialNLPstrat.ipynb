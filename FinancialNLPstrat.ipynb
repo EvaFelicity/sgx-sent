{
  "nbformat": 4,
  "nbformat_minor": 0,
  "metadata": {
    "colab": {
      "name": "FinancialNLPstrat.ipynb",
      "provenance": [],
      "collapsed_sections": [
        "GKcBvH4YypBV",
        "IEfxcj-fyvbn",
        "eyDDtO_u0yib",
        "yaBkZLfg1QvV",
        "9v2EwxyF2dVY"
      ],
      "authorship_tag": "ABX9TyMP0/LnllPOe8wrjTuX2dFb",
      "include_colab_link": true
    },
    "kernelspec": {
      "name": "python3",
      "display_name": "Python 3"
    },
    "accelerator": "GPU",
    "widgets": {
      "application/vnd.jupyter.widget-state+json": {
        "338fe5aaafaa42fe80f75e8e5e90bb29": {
          "model_module": "@jupyter-widgets/controls",
          "model_name": "HBoxModel",
          "state": {
            "_view_name": "HBoxView",
            "_dom_classes": [],
            "_model_name": "HBoxModel",
            "_view_module": "@jupyter-widgets/controls",
            "_model_module_version": "1.5.0",
            "_view_count": null,
            "_view_module_version": "1.5.0",
            "box_style": "",
            "layout": "IPY_MODEL_e754151d93f049e9bab8a07c80ff51c7",
            "_model_module": "@jupyter-widgets/controls",
            "children": [
              "IPY_MODEL_3e1b08d9b78546539c64b8a8bda9da1d",
              "IPY_MODEL_1b4003a001284da197bca2be88965c0e"
            ]
          }
        },
        "e754151d93f049e9bab8a07c80ff51c7": {
          "model_module": "@jupyter-widgets/base",
          "model_name": "LayoutModel",
          "state": {
            "_view_name": "LayoutView",
            "grid_template_rows": null,
            "right": null,
            "justify_content": null,
            "_view_module": "@jupyter-widgets/base",
            "overflow": null,
            "_model_module_version": "1.2.0",
            "_view_count": null,
            "flex_flow": null,
            "width": null,
            "min_width": null,
            "border": null,
            "align_items": null,
            "bottom": null,
            "_model_module": "@jupyter-widgets/base",
            "top": null,
            "grid_column": null,
            "overflow_y": null,
            "overflow_x": null,
            "grid_auto_flow": null,
            "grid_area": null,
            "grid_template_columns": null,
            "flex": null,
            "_model_name": "LayoutModel",
            "justify_items": null,
            "grid_row": null,
            "max_height": null,
            "align_content": null,
            "visibility": null,
            "align_self": null,
            "height": null,
            "min_height": null,
            "padding": null,
            "grid_auto_rows": null,
            "grid_gap": null,
            "max_width": null,
            "order": null,
            "_view_module_version": "1.2.0",
            "grid_template_areas": null,
            "object_position": null,
            "object_fit": null,
            "grid_auto_columns": null,
            "margin": null,
            "display": null,
            "left": null
          }
        },
        "3e1b08d9b78546539c64b8a8bda9da1d": {
          "model_module": "@jupyter-widgets/controls",
          "model_name": "FloatProgressModel",
          "state": {
            "_view_name": "ProgressView",
            "style": "IPY_MODEL_f4de17601c354e70b0d7f3f26a2fb4b5",
            "_dom_classes": [],
            "description": "Downloading: 100%",
            "_model_name": "FloatProgressModel",
            "bar_style": "success",
            "max": 231508,
            "_view_module": "@jupyter-widgets/controls",
            "_model_module_version": "1.5.0",
            "value": 231508,
            "_view_count": null,
            "_view_module_version": "1.5.0",
            "orientation": "horizontal",
            "min": 0,
            "description_tooltip": null,
            "_model_module": "@jupyter-widgets/controls",
            "layout": "IPY_MODEL_bc61b9749992401d9fa0f8e9d9153ab4"
          }
        },
        "1b4003a001284da197bca2be88965c0e": {
          "model_module": "@jupyter-widgets/controls",
          "model_name": "HTMLModel",
          "state": {
            "_view_name": "HTMLView",
            "style": "IPY_MODEL_84ab3c0e58e94c55b1ba3d08548a353c",
            "_dom_classes": [],
            "description": "",
            "_model_name": "HTMLModel",
            "placeholder": "​",
            "_view_module": "@jupyter-widgets/controls",
            "_model_module_version": "1.5.0",
            "value": " 232k/232k [00:00&lt;00:00, 3.20MB/s]",
            "_view_count": null,
            "_view_module_version": "1.5.0",
            "description_tooltip": null,
            "_model_module": "@jupyter-widgets/controls",
            "layout": "IPY_MODEL_60428fd377cb4178bd88a3693b568bb6"
          }
        },
        "f4de17601c354e70b0d7f3f26a2fb4b5": {
          "model_module": "@jupyter-widgets/controls",
          "model_name": "ProgressStyleModel",
          "state": {
            "_view_name": "StyleView",
            "_model_name": "ProgressStyleModel",
            "description_width": "initial",
            "_view_module": "@jupyter-widgets/base",
            "_model_module_version": "1.5.0",
            "_view_count": null,
            "_view_module_version": "1.2.0",
            "bar_color": null,
            "_model_module": "@jupyter-widgets/controls"
          }
        },
        "bc61b9749992401d9fa0f8e9d9153ab4": {
          "model_module": "@jupyter-widgets/base",
          "model_name": "LayoutModel",
          "state": {
            "_view_name": "LayoutView",
            "grid_template_rows": null,
            "right": null,
            "justify_content": null,
            "_view_module": "@jupyter-widgets/base",
            "overflow": null,
            "_model_module_version": "1.2.0",
            "_view_count": null,
            "flex_flow": null,
            "width": null,
            "min_width": null,
            "border": null,
            "align_items": null,
            "bottom": null,
            "_model_module": "@jupyter-widgets/base",
            "top": null,
            "grid_column": null,
            "overflow_y": null,
            "overflow_x": null,
            "grid_auto_flow": null,
            "grid_area": null,
            "grid_template_columns": null,
            "flex": null,
            "_model_name": "LayoutModel",
            "justify_items": null,
            "grid_row": null,
            "max_height": null,
            "align_content": null,
            "visibility": null,
            "align_self": null,
            "height": null,
            "min_height": null,
            "padding": null,
            "grid_auto_rows": null,
            "grid_gap": null,
            "max_width": null,
            "order": null,
            "_view_module_version": "1.2.0",
            "grid_template_areas": null,
            "object_position": null,
            "object_fit": null,
            "grid_auto_columns": null,
            "margin": null,
            "display": null,
            "left": null
          }
        },
        "84ab3c0e58e94c55b1ba3d08548a353c": {
          "model_module": "@jupyter-widgets/controls",
          "model_name": "DescriptionStyleModel",
          "state": {
            "_view_name": "StyleView",
            "_model_name": "DescriptionStyleModel",
            "description_width": "",
            "_view_module": "@jupyter-widgets/base",
            "_model_module_version": "1.5.0",
            "_view_count": null,
            "_view_module_version": "1.2.0",
            "_model_module": "@jupyter-widgets/controls"
          }
        },
        "60428fd377cb4178bd88a3693b568bb6": {
          "model_module": "@jupyter-widgets/base",
          "model_name": "LayoutModel",
          "state": {
            "_view_name": "LayoutView",
            "grid_template_rows": null,
            "right": null,
            "justify_content": null,
            "_view_module": "@jupyter-widgets/base",
            "overflow": null,
            "_model_module_version": "1.2.0",
            "_view_count": null,
            "flex_flow": null,
            "width": null,
            "min_width": null,
            "border": null,
            "align_items": null,
            "bottom": null,
            "_model_module": "@jupyter-widgets/base",
            "top": null,
            "grid_column": null,
            "overflow_y": null,
            "overflow_x": null,
            "grid_auto_flow": null,
            "grid_area": null,
            "grid_template_columns": null,
            "flex": null,
            "_model_name": "LayoutModel",
            "justify_items": null,
            "grid_row": null,
            "max_height": null,
            "align_content": null,
            "visibility": null,
            "align_self": null,
            "height": null,
            "min_height": null,
            "padding": null,
            "grid_auto_rows": null,
            "grid_gap": null,
            "max_width": null,
            "order": null,
            "_view_module_version": "1.2.0",
            "grid_template_areas": null,
            "object_position": null,
            "object_fit": null,
            "grid_auto_columns": null,
            "margin": null,
            "display": null,
            "left": null
          }
        }
      }
    }
  },
  "cells": [
    {
      "cell_type": "markdown",
      "metadata": {
        "id": "view-in-github",
        "colab_type": "text"
      },
      "source": [
        "<a href=\"https://colab.research.google.com/github/neoyipeng2018/sgx-sent/blob/main/FinancialNLPstrat.ipynb\" target=\"_parent\"><img src=\"https://colab.research.google.com/assets/colab-badge.svg\" alt=\"Open In Colab\"/></a>"
      ]
    },
    {
      "cell_type": "markdown",
      "metadata": {
        "id": "0xthwnqIyRy5"
      },
      "source": [
        "# Reading and classifying boring corporate filings with NLP\n",
        "1. Getting filings\n",
        "1. Sentiment Labelling\n",
        "1. Verify sentiments (Backtesting)"
      ]
    },
    {
      "cell_type": "markdown",
      "metadata": {
        "id": "GKcBvH4YypBV"
      },
      "source": [
        "## Basics"
      ]
    },
    {
      "cell_type": "code",
      "metadata": {
        "id": "Ag48lhBRyr4T",
        "outputId": "75100c15-cfbc-4d3e-c28d-966f5fc9e6a4",
        "colab": {
          "base_uri": "https://localhost:8080/",
          "height": 51
        }
      },
      "source": [
        "%matplotlib inline\n",
        "\n",
        "from google.colab import drive; drive.mount('/content/gdrive', force_remount=True)\n",
        "%cd '/content/gdrive/My Drive/Colab Notebooks'\n",
        "\n",
        "import pandas as pd\n",
        "import glob"
      ],
      "execution_count": null,
      "outputs": [
        {
          "output_type": "stream",
          "text": [
            "Mounted at /content/gdrive\n",
            "/content/gdrive/My Drive/Colab Notebooks\n"
          ],
          "name": "stdout"
        }
      ]
    },
    {
      "cell_type": "markdown",
      "metadata": {
        "id": "IEfxcj-fyvbn"
      },
      "source": [
        "## Getting filings"
      ]
    },
    {
      "cell_type": "markdown",
      "metadata": {
        "id": "XR-UwF5U0rTU"
      },
      "source": [
        "### Downloading data\n",
        "https://gist.github.com/neoyipeng2018/403acb271c14ee7dcd5dfbbe17bee2cc"
      ]
    },
    {
      "cell_type": "markdown",
      "metadata": {
        "id": "eyDDtO_u0yib"
      },
      "source": [
        "### Parsing pdfs\n",
        "https://stackabuse.com/working-with-pdfs-in-python-reading-and-splitting-pages/"
      ]
    },
    {
      "cell_type": "code",
      "metadata": {
        "id": "-CPovG_A035N",
        "outputId": "15a3c392-e54a-46cb-e6e8-d8c1e74b54ad",
        "colab": {
          "base_uri": "https://localhost:8080/",
          "height": 153
        }
      },
      "source": [
        "!pip install pdflib"
      ],
      "execution_count": null,
      "outputs": [
        {
          "output_type": "stream",
          "text": [
            "Collecting pdflib\n",
            "\u001b[?25l  Downloading https://files.pythonhosted.org/packages/f4/45/13646176cf72766d439515705c15988ff17ed6f4023bcea1c197fb29b913/pdflib-0.3.0-cp36-cp36m-manylinux2010_x86_64.whl (5.8MB)\n",
            "\u001b[K     |████████████████████████████████| 5.8MB 6.4MB/s \n",
            "\u001b[?25hRequirement already satisfied: six in /usr/local/lib/python3.6/dist-packages (from pdflib) (1.15.0)\n",
            "Requirement already satisfied: cython in /usr/local/lib/python3.6/dist-packages (from pdflib) (0.29.21)\n",
            "Requirement already satisfied: lxml in /usr/local/lib/python3.6/dist-packages (from pdflib) (4.2.6)\n",
            "Installing collected packages: pdflib\n",
            "Successfully installed pdflib-0.3.0\n"
          ],
          "name": "stdout"
        }
      ]
    },
    {
      "cell_type": "code",
      "metadata": {
        "id": "nbgRueDq1i8E"
      },
      "source": [
        "dir='data/SGX/'"
      ],
      "execution_count": null,
      "outputs": []
    },
    {
      "cell_type": "code",
      "metadata": {
        "id": "0_kg1lIY1Sc2",
        "outputId": "a8e51b8e-e7b5-4be0-e095-2e8d0152de06",
        "colab": {
          "base_uri": "https://localhost:8080/",
          "height": 459
        }
      },
      "source": [
        "from pdflib import Document\n",
        "doc = Document(dir+\"01-Apr-2020 181516_1AEM.pdf\")\n",
        "\n",
        "for page in doc:\n",
        "  print(' \\n'.join(page.lines).strip())"
      ],
      "execution_count": null,
      "outputs": [
        {
          "output_type": "stream",
          "text": [
            "SGXNET Announcement \n",
            "AEM Holdings Ltd \n",
            "(Registration No. 200006417D) \n",
            "NOTICE OF TRANSFER OF TREASURY SHARES \n",
            "Pursuant to Rule 704(28) of the Listing Manual of the Singapore Exchange Securities Trading \n",
            "Limited, AEM Holdings Ltd wishes to announce the following transfer of treasury shares from its \n",
            "Share Buyback Account maintained with The Central Depository (Private) Limited: \n",
            "Date of transfer                                                      1 April 2020 \n",
            "Pursuant to the transformational performance share award \n",
            "Purpose of transfer                             under the AEM performance share grant as announced on \n",
            "7 October 2019 \n",
            "Number of treasury shares transferred                                    433,667 \n",
            "Number of treasury shares held before transfer                          2,440,980 \n",
            "Number of treasury shares held after transfer                           2,007,313 \n",
            "Percentage of the number of treasury shares \n",
            "against the total number of ordinary shares                              0.893% \n",
            "outstanding before transfer \n",
            "Percentage of the number of treasury shares \n",
            "against the total number of ordinary shares                              0.734% \n",
            "outstanding after transfer \n",
            "Value of the treasury shares transferred                              S$487,305.20 \n",
            "By Order of the Board \n",
            "Loke Wai San \n",
            "Executive Chairman \n",
            "1 April 2020 \n",
            "1\n"
          ],
          "name": "stdout"
        }
      ]
    },
    {
      "cell_type": "code",
      "metadata": {
        "id": "LW42wvNG1o0C",
        "outputId": "7d1b5532-f277-4e4e-cc5b-e9c2c14a8f8d",
        "colab": {
          "base_uri": "https://localhost:8080/",
          "height": 102
        }
      },
      "source": [
        "pdfs = glob.glob(dir+'*AEM.pdf')\n",
        "pdfs[:5]"
      ],
      "execution_count": null,
      "outputs": [
        {
          "output_type": "execute_result",
          "data": {
            "text/plain": [
              "['data/SGX/14-Oct-2020 201548_1AEM.pdf',\n",
              " 'data/SGX/02-Oct-2020 180219_1AEM.pdf',\n",
              " 'data/SGX/29-Sep-2020 181752_1AEM.pdf',\n",
              " 'data/SGX/17-Sep-2020 065825_1AEM.pdf',\n",
              " 'data/SGX/10-Sep-2020 183408_1AEM.pdf']"
            ]
          },
          "metadata": {
            "tags": []
          },
          "execution_count": 8
        }
      ]
    },
    {
      "cell_type": "code",
      "metadata": {
        "id": "ddxoPYMo1owM"
      },
      "source": [
        "for f in pdfs:\n",
        "  doc = Document(f)\n",
        "  for page in doc:\n",
        "    print(' \\n'.join(page.lines).strip())"
      ],
      "execution_count": null,
      "outputs": []
    },
    {
      "cell_type": "markdown",
      "metadata": {
        "id": "yaBkZLfg1QvV"
      },
      "source": [
        "## Extract Sentiment\n",
        "- https://towardsdatascience.com/how-nlp-has-evolved-for-financial-sentiment-analysis-fb2990d9b3ed"
      ]
    },
    {
      "cell_type": "code",
      "metadata": {
        "id": "hICE4iLn2Hdm",
        "outputId": "87e24fbf-2a29-4fd4-acdb-6a9188fbea1f",
        "colab": {
          "base_uri": "https://localhost:8080/",
          "height": 629
        }
      },
      "source": [
        "!pip install transformers"
      ],
      "execution_count": null,
      "outputs": [
        {
          "output_type": "stream",
          "text": [
            "Collecting transformers\n",
            "\u001b[?25l  Downloading https://files.pythonhosted.org/packages/2c/4e/4f1ede0fd7a36278844a277f8d53c21f88f37f3754abf76a5d6224f76d4a/transformers-3.4.0-py3-none-any.whl (1.3MB)\n",
            "\u001b[K     |████████████████████████████████| 1.3MB 22.8MB/s \n",
            "\u001b[?25hRequirement already satisfied: filelock in /usr/local/lib/python3.6/dist-packages (from transformers) (3.0.12)\n",
            "Requirement already satisfied: regex!=2019.12.17 in /usr/local/lib/python3.6/dist-packages (from transformers) (2019.12.20)\n",
            "Collecting sentencepiece!=0.1.92\n",
            "\u001b[?25l  Downloading https://files.pythonhosted.org/packages/e5/2d/6d4ca4bef9a67070fa1cac508606328329152b1df10bdf31fb6e4e727894/sentencepiece-0.1.94-cp36-cp36m-manylinux2014_x86_64.whl (1.1MB)\n",
            "\u001b[K     |████████████████████████████████| 1.1MB 55.2MB/s \n",
            "\u001b[?25hRequirement already satisfied: packaging in /usr/local/lib/python3.6/dist-packages (from transformers) (20.4)\n",
            "Requirement already satisfied: numpy in /usr/local/lib/python3.6/dist-packages (from transformers) (1.18.5)\n",
            "Collecting sacremoses\n",
            "\u001b[?25l  Downloading https://files.pythonhosted.org/packages/7d/34/09d19aff26edcc8eb2a01bed8e98f13a1537005d31e95233fd48216eed10/sacremoses-0.0.43.tar.gz (883kB)\n",
            "\u001b[K     |████████████████████████████████| 890kB 50.6MB/s \n",
            "\u001b[?25hRequirement already satisfied: protobuf in /usr/local/lib/python3.6/dist-packages (from transformers) (3.12.4)\n",
            "Requirement already satisfied: requests in /usr/local/lib/python3.6/dist-packages (from transformers) (2.23.0)\n",
            "Requirement already satisfied: tqdm>=4.27 in /usr/local/lib/python3.6/dist-packages (from transformers) (4.41.1)\n",
            "Requirement already satisfied: dataclasses; python_version < \"3.7\" in /usr/local/lib/python3.6/dist-packages (from transformers) (0.7)\n",
            "Collecting tokenizers==0.9.2\n",
            "\u001b[?25l  Downloading https://files.pythonhosted.org/packages/7c/a5/78be1a55b2ac8d6a956f0a211d372726e2b1dd2666bb537fea9b03abd62c/tokenizers-0.9.2-cp36-cp36m-manylinux1_x86_64.whl (2.9MB)\n",
            "\u001b[K     |████████████████████████████████| 2.9MB 27.6MB/s \n",
            "\u001b[?25hRequirement already satisfied: pyparsing>=2.0.2 in /usr/local/lib/python3.6/dist-packages (from packaging->transformers) (2.4.7)\n",
            "Requirement already satisfied: six in /usr/local/lib/python3.6/dist-packages (from packaging->transformers) (1.15.0)\n",
            "Requirement already satisfied: click in /usr/local/lib/python3.6/dist-packages (from sacremoses->transformers) (7.1.2)\n",
            "Requirement already satisfied: joblib in /usr/local/lib/python3.6/dist-packages (from sacremoses->transformers) (0.16.0)\n",
            "Requirement already satisfied: setuptools in /usr/local/lib/python3.6/dist-packages (from protobuf->transformers) (50.3.0)\n",
            "Requirement already satisfied: urllib3!=1.25.0,!=1.25.1,<1.26,>=1.21.1 in /usr/local/lib/python3.6/dist-packages (from requests->transformers) (1.24.3)\n",
            "Requirement already satisfied: certifi>=2017.4.17 in /usr/local/lib/python3.6/dist-packages (from requests->transformers) (2020.6.20)\n",
            "Requirement already satisfied: chardet<4,>=3.0.2 in /usr/local/lib/python3.6/dist-packages (from requests->transformers) (3.0.4)\n",
            "Requirement already satisfied: idna<3,>=2.5 in /usr/local/lib/python3.6/dist-packages (from requests->transformers) (2.10)\n",
            "Building wheels for collected packages: sacremoses\n",
            "  Building wheel for sacremoses (setup.py) ... \u001b[?25l\u001b[?25hdone\n",
            "  Created wheel for sacremoses: filename=sacremoses-0.0.43-cp36-none-any.whl size=893257 sha256=9a8dbf6807720e5f383d70e0d669676d3b855ff270350376619fe648ac51ea34\n",
            "  Stored in directory: /root/.cache/pip/wheels/29/3c/fd/7ce5c3f0666dab31a50123635e6fb5e19ceb42ce38d4e58f45\n",
            "Successfully built sacremoses\n",
            "Installing collected packages: sentencepiece, sacremoses, tokenizers, transformers\n",
            "Successfully installed sacremoses-0.0.43 sentencepiece-0.1.94 tokenizers-0.9.2 transformers-3.4.0\n"
          ],
          "name": "stdout"
        }
      ]
    },
    {
      "cell_type": "code",
      "metadata": {
        "id": "CFBxLQEX3NJs"
      },
      "source": [
        "from transformers import BertTokenizer, BertForSequenceClassification"
      ],
      "execution_count": null,
      "outputs": []
    },
    {
      "cell_type": "code",
      "metadata": {
        "id": "vKDdi6cU3NHP"
      },
      "source": [
        "import torch"
      ],
      "execution_count": null,
      "outputs": []
    },
    {
      "cell_type": "markdown",
      "metadata": {
        "id": "DmslHjOZ3iSK"
      },
      "source": [
        "article on tokenizers:https://towardsdatascience.com/tokenizers-nlps-building-block-9ab17d3e6929"
      ]
    },
    {
      "cell_type": "code",
      "metadata": {
        "id": "ZzqmKFo03Pg5",
        "outputId": "b699ba56-ff92-42a0-cc4d-824a05bc5690",
        "colab": {
          "base_uri": "https://localhost:8080/",
          "height": 66,
          "referenced_widgets": [
            "338fe5aaafaa42fe80f75e8e5e90bb29",
            "e754151d93f049e9bab8a07c80ff51c7",
            "3e1b08d9b78546539c64b8a8bda9da1d",
            "1b4003a001284da197bca2be88965c0e",
            "f4de17601c354e70b0d7f3f26a2fb4b5",
            "bc61b9749992401d9fa0f8e9d9153ab4",
            "84ab3c0e58e94c55b1ba3d08548a353c",
            "60428fd377cb4178bd88a3693b568bb6"
          ]
        }
      },
      "source": [
        "tokenizer = BertTokenizer.from_pretrained('bert-base-uncased')"
      ],
      "execution_count": null,
      "outputs": [
        {
          "output_type": "display_data",
          "data": {
            "application/vnd.jupyter.widget-view+json": {
              "model_id": "338fe5aaafaa42fe80f75e8e5e90bb29",
              "version_minor": 0,
              "version_major": 2
            },
            "text/plain": [
              "HBox(children=(FloatProgress(value=0.0, description='Downloading', max=231508.0, style=ProgressStyle(descripti…"
            ]
          },
          "metadata": {
            "tags": []
          }
        },
        {
          "output_type": "stream",
          "text": [
            "\n"
          ],
          "name": "stdout"
        }
      ]
    },
    {
      "cell_type": "code",
      "metadata": {
        "id": "Ae_cZao73SaK"
      },
      "source": [
        "model = BertForSequenceClassification.from_pretrained('finbertProsus/pytorch_model.bin',config='finbertProsus/config.json',num_labels=3)"
      ],
      "execution_count": null,
      "outputs": []
    },
    {
      "cell_type": "code",
      "metadata": {
        "id": "e5Rx9TZV4usE"
      },
      "source": [
        "label_list=['positive','negative','neutral']"
      ],
      "execution_count": null,
      "outputs": []
    },
    {
      "cell_type": "code",
      "metadata": {
        "id": "H9Urfc024CFt",
        "outputId": "c777a26f-40db-4bd0-92e1-60551bd33b9d",
        "colab": {
          "base_uri": "https://localhost:8080/",
          "height": 35
        }
      },
      "source": [
        "inputs = tokenizer(\"We did badly this quarter\", return_tensors=\"pt\")\n",
        "outputs = model(**inputs)\n",
        "label_list[torch.argmax(outputs[0])]"
      ],
      "execution_count": null,
      "outputs": [
        {
          "output_type": "execute_result",
          "data": {
            "application/vnd.google.colaboratory.intrinsic+json": {
              "type": "string"
            },
            "text/plain": [
              "'negative'"
            ]
          },
          "metadata": {
            "tags": []
          },
          "execution_count": 28
        }
      ]
    },
    {
      "cell_type": "code",
      "metadata": {
        "id": "slQeoG3Z4eWu",
        "outputId": "8e012caf-2ffd-42a0-944b-9062788b039d",
        "colab": {
          "base_uri": "https://localhost:8080/",
          "height": 35
        }
      },
      "source": [
        "inputs = tokenizer(\"We did well this quarter\", return_tensors=\"pt\")\n",
        "outputs = model(**inputs)\n",
        "label_list[torch.argmax(outputs[0])]"
      ],
      "execution_count": null,
      "outputs": [
        {
          "output_type": "execute_result",
          "data": {
            "application/vnd.google.colaboratory.intrinsic+json": {
              "type": "string"
            },
            "text/plain": [
              "'positive'"
            ]
          },
          "metadata": {
            "tags": []
          },
          "execution_count": 23
        }
      ]
    },
    {
      "cell_type": "code",
      "metadata": {
        "id": "EKR16f-M4eS_",
        "outputId": "e2fbd04c-7dd5-4edf-eb28-6a78397172ef",
        "colab": {
          "base_uri": "https://localhost:8080/",
          "height": 35
        }
      },
      "source": [
        "inputs = tokenizer(\"We did meh this quarter\", return_tensors=\"pt\")\n",
        "outputs = model(**inputs)\n",
        "label_list[torch.argmax(outputs[0])]"
      ],
      "execution_count": null,
      "outputs": [
        {
          "output_type": "execute_result",
          "data": {
            "application/vnd.google.colaboratory.intrinsic+json": {
              "type": "string"
            },
            "text/plain": [
              "'neutral'"
            ]
          },
          "metadata": {
            "tags": []
          },
          "execution_count": 27
        }
      ]
    },
    {
      "cell_type": "code",
      "metadata": {
        "id": "msd1qiVu4rYm"
      },
      "source": [
        "sentLs=[]\n",
        "for f in pdfs:\n",
        "\n",
        "  doc = Document(f)\n",
        "\n",
        "  sentSum=0\n",
        "  for page in doc:\n",
        "    txt=' \\n'.join(page.lines).strip()\n",
        "    inputs = tokenizer(txt, return_tensors=\"pt\",max_length=512,truncation=True)\n",
        "    outputs = model(**inputs)\n",
        "    sent=torch.argmax(outputs[0])\n",
        "    if sent==0: sentSum+=1\n",
        "    elif sent==1: sentSum-=1\n",
        "  \n",
        "  sentLs.append(sentSum)\n"
      ],
      "execution_count": null,
      "outputs": []
    },
    {
      "cell_type": "code",
      "metadata": {
        "id": "CkfTOLFA4ndZ"
      },
      "source": [
        "assert len(sentLs)==len(pdfs)"
      ],
      "execution_count": null,
      "outputs": []
    },
    {
      "cell_type": "code",
      "metadata": {
        "id": "GFZ-FEw14naP",
        "outputId": "0c581079-4030-470a-86a1-063d06d6791f",
        "colab": {
          "base_uri": "https://localhost:8080/",
          "height": 204
        }
      },
      "source": [
        "df=pd.DataFrame()\n",
        "df['sent']=sentLs\n",
        "df['file']=pdfs\n",
        "df.head()"
      ],
      "execution_count": null,
      "outputs": [
        {
          "output_type": "execute_result",
          "data": {
            "text/html": [
              "<div>\n",
              "<style scoped>\n",
              "    .dataframe tbody tr th:only-of-type {\n",
              "        vertical-align: middle;\n",
              "    }\n",
              "\n",
              "    .dataframe tbody tr th {\n",
              "        vertical-align: top;\n",
              "    }\n",
              "\n",
              "    .dataframe thead th {\n",
              "        text-align: right;\n",
              "    }\n",
              "</style>\n",
              "<table border=\"1\" class=\"dataframe\">\n",
              "  <thead>\n",
              "    <tr style=\"text-align: right;\">\n",
              "      <th></th>\n",
              "      <th>sent</th>\n",
              "      <th>file</th>\n",
              "    </tr>\n",
              "  </thead>\n",
              "  <tbody>\n",
              "    <tr>\n",
              "      <th>0</th>\n",
              "      <td>0</td>\n",
              "      <td>data/SGX/14-Oct-2020 201548_1AEM.pdf</td>\n",
              "    </tr>\n",
              "    <tr>\n",
              "      <th>1</th>\n",
              "      <td>0</td>\n",
              "      <td>data/SGX/02-Oct-2020 180219_1AEM.pdf</td>\n",
              "    </tr>\n",
              "    <tr>\n",
              "      <th>2</th>\n",
              "      <td>0</td>\n",
              "      <td>data/SGX/29-Sep-2020 181752_1AEM.pdf</td>\n",
              "    </tr>\n",
              "    <tr>\n",
              "      <th>3</th>\n",
              "      <td>0</td>\n",
              "      <td>data/SGX/17-Sep-2020 065825_1AEM.pdf</td>\n",
              "    </tr>\n",
              "    <tr>\n",
              "      <th>4</th>\n",
              "      <td>0</td>\n",
              "      <td>data/SGX/10-Sep-2020 183408_1AEM.pdf</td>\n",
              "    </tr>\n",
              "  </tbody>\n",
              "</table>\n",
              "</div>"
            ],
            "text/plain": [
              "   sent                                  file\n",
              "0     0  data/SGX/14-Oct-2020 201548_1AEM.pdf\n",
              "1     0  data/SGX/02-Oct-2020 180219_1AEM.pdf\n",
              "2     0  data/SGX/29-Sep-2020 181752_1AEM.pdf\n",
              "3     0  data/SGX/17-Sep-2020 065825_1AEM.pdf\n",
              "4     0  data/SGX/10-Sep-2020 183408_1AEM.pdf"
            ]
          },
          "metadata": {
            "tags": []
          },
          "execution_count": 35
        }
      ]
    },
    {
      "cell_type": "code",
      "metadata": {
        "id": "07_t0Wx39QMa"
      },
      "source": [
        "import re"
      ],
      "execution_count": null,
      "outputs": []
    },
    {
      "cell_type": "code",
      "metadata": {
        "id": "kp_ogBQX9QH2"
      },
      "source": [
        "dtLs=[]\n",
        "for f in pdfs:\n",
        "  dt=re.findall(r'\\d{2}-\\w{3}-\\d{4}',f)[0]\n",
        "  dtLs.append(dt)"
      ],
      "execution_count": null,
      "outputs": []
    },
    {
      "cell_type": "code",
      "metadata": {
        "id": "LN45T1af3NEc",
        "outputId": "dee64e82-627a-4150-f09a-e132b1d4229b",
        "colab": {
          "base_uri": "https://localhost:8080/",
          "height": 34
        }
      },
      "source": [
        "len(dtLs)"
      ],
      "execution_count": null,
      "outputs": [
        {
          "output_type": "execute_result",
          "data": {
            "text/plain": [
              "150"
            ]
          },
          "metadata": {
            "tags": []
          },
          "execution_count": 42
        }
      ]
    },
    {
      "cell_type": "code",
      "metadata": {
        "id": "beSkFnvH9lKe",
        "outputId": "92c7be13-6a0c-460a-c0d2-4e93c31d4c07",
        "colab": {
          "base_uri": "https://localhost:8080/",
          "height": 111
        }
      },
      "source": [
        "df['date']=dtLs\n",
        "df.head(2)"
      ],
      "execution_count": null,
      "outputs": [
        {
          "output_type": "execute_result",
          "data": {
            "text/html": [
              "<div>\n",
              "<style scoped>\n",
              "    .dataframe tbody tr th:only-of-type {\n",
              "        vertical-align: middle;\n",
              "    }\n",
              "\n",
              "    .dataframe tbody tr th {\n",
              "        vertical-align: top;\n",
              "    }\n",
              "\n",
              "    .dataframe thead th {\n",
              "        text-align: right;\n",
              "    }\n",
              "</style>\n",
              "<table border=\"1\" class=\"dataframe\">\n",
              "  <thead>\n",
              "    <tr style=\"text-align: right;\">\n",
              "      <th></th>\n",
              "      <th>sent</th>\n",
              "      <th>file</th>\n",
              "      <th>date</th>\n",
              "    </tr>\n",
              "  </thead>\n",
              "  <tbody>\n",
              "    <tr>\n",
              "      <th>0</th>\n",
              "      <td>0</td>\n",
              "      <td>data/SGX/14-Oct-2020 201548_1AEM.pdf</td>\n",
              "      <td>14-Oct-2020</td>\n",
              "    </tr>\n",
              "    <tr>\n",
              "      <th>1</th>\n",
              "      <td>0</td>\n",
              "      <td>data/SGX/02-Oct-2020 180219_1AEM.pdf</td>\n",
              "      <td>02-Oct-2020</td>\n",
              "    </tr>\n",
              "  </tbody>\n",
              "</table>\n",
              "</div>"
            ],
            "text/plain": [
              "   sent                                  file         date\n",
              "0     0  data/SGX/14-Oct-2020 201548_1AEM.pdf  14-Oct-2020\n",
              "1     0  data/SGX/02-Oct-2020 180219_1AEM.pdf  02-Oct-2020"
            ]
          },
          "metadata": {
            "tags": []
          },
          "execution_count": 43
        }
      ]
    },
    {
      "cell_type": "code",
      "metadata": {
        "id": "aDThLO5Z9sUD",
        "outputId": "943a4c6e-a18e-4a06-b50c-5904fbca8ab8",
        "colab": {
          "base_uri": "https://localhost:8080/",
          "height": 85
        }
      },
      "source": [
        "df.dtypes"
      ],
      "execution_count": null,
      "outputs": [
        {
          "output_type": "execute_result",
          "data": {
            "text/plain": [
              "sent     int64\n",
              "file    object\n",
              "date    object\n",
              "dtype: object"
            ]
          },
          "metadata": {
            "tags": []
          },
          "execution_count": 44
        }
      ]
    },
    {
      "cell_type": "code",
      "metadata": {
        "id": "z8QaTs5Y9nsx",
        "outputId": "68a98b42-f5d1-495d-b4a4-224abaebab05",
        "colab": {
          "base_uri": "https://localhost:8080/",
          "height": 142
        }
      },
      "source": [
        "df['date']=pd.to_datetime(df['date'])\n",
        "df.set_index('date',inplace=True)\n",
        "df.head(2)"
      ],
      "execution_count": null,
      "outputs": [
        {
          "output_type": "execute_result",
          "data": {
            "text/html": [
              "<div>\n",
              "<style scoped>\n",
              "    .dataframe tbody tr th:only-of-type {\n",
              "        vertical-align: middle;\n",
              "    }\n",
              "\n",
              "    .dataframe tbody tr th {\n",
              "        vertical-align: top;\n",
              "    }\n",
              "\n",
              "    .dataframe thead th {\n",
              "        text-align: right;\n",
              "    }\n",
              "</style>\n",
              "<table border=\"1\" class=\"dataframe\">\n",
              "  <thead>\n",
              "    <tr style=\"text-align: right;\">\n",
              "      <th></th>\n",
              "      <th>sent</th>\n",
              "      <th>file</th>\n",
              "    </tr>\n",
              "    <tr>\n",
              "      <th>date</th>\n",
              "      <th></th>\n",
              "      <th></th>\n",
              "    </tr>\n",
              "  </thead>\n",
              "  <tbody>\n",
              "    <tr>\n",
              "      <th>2020-10-14</th>\n",
              "      <td>0</td>\n",
              "      <td>data/SGX/14-Oct-2020 201548_1AEM.pdf</td>\n",
              "    </tr>\n",
              "    <tr>\n",
              "      <th>2020-10-02</th>\n",
              "      <td>0</td>\n",
              "      <td>data/SGX/02-Oct-2020 180219_1AEM.pdf</td>\n",
              "    </tr>\n",
              "  </tbody>\n",
              "</table>\n",
              "</div>"
            ],
            "text/plain": [
              "            sent                                  file\n",
              "date                                                  \n",
              "2020-10-14     0  data/SGX/14-Oct-2020 201548_1AEM.pdf\n",
              "2020-10-02     0  data/SGX/02-Oct-2020 180219_1AEM.pdf"
            ]
          },
          "metadata": {
            "tags": []
          },
          "execution_count": 46
        }
      ]
    },
    {
      "cell_type": "code",
      "metadata": {
        "id": "DZnWpmEr9nqJ",
        "outputId": "7ffe825a-7dff-4a04-d4e4-91bd3a3cfc02",
        "colab": {
          "base_uri": "https://localhost:8080/",
          "height": 85
        }
      },
      "source": [
        "sent=df.groupby(df.index).sent.sum()\n",
        "sent.head(2)"
      ],
      "execution_count": null,
      "outputs": [
        {
          "output_type": "execute_result",
          "data": {
            "text/plain": [
              "date\n",
              "2020-04-01    0\n",
              "2020-04-08    0\n",
              "Name: sent, dtype: int64"
            ]
          },
          "metadata": {
            "tags": []
          },
          "execution_count": 49
        }
      ]
    },
    {
      "cell_type": "code",
      "metadata": {
        "id": "vSee6ChQ9nm_",
        "outputId": "4d0e851d-05fe-480d-b5ac-f199790fc800",
        "colab": {
          "base_uri": "https://localhost:8080/",
          "height": 221
        }
      },
      "source": [
        "sent.sort_values(ascending=False)[:10]"
      ],
      "execution_count": null,
      "outputs": [
        {
          "output_type": "execute_result",
          "data": {
            "text/plain": [
              "date\n",
              "2020-08-03    10\n",
              "2020-04-15     8\n",
              "2020-04-28     4\n",
              "2020-05-20     4\n",
              "2020-08-24     2\n",
              "2020-07-22     2\n",
              "2020-06-09     2\n",
              "2020-04-19     2\n",
              "2020-05-21     2\n",
              "2020-05-14     0\n",
              "Name: sent, dtype: int64"
            ]
          },
          "metadata": {
            "tags": []
          },
          "execution_count": 50
        }
      ]
    },
    {
      "cell_type": "code",
      "metadata": {
        "id": "P3Ubp8Dc9lHq",
        "outputId": "2a547191-5df0-48fa-8808-d16640351ed4",
        "colab": {
          "base_uri": "https://localhost:8080/",
          "height": 238
        }
      },
      "source": [
        "sent"
      ],
      "execution_count": null,
      "outputs": [
        {
          "output_type": "execute_result",
          "data": {
            "text/plain": [
              "date\n",
              "2020-04-01    0\n",
              "2020-04-08    0\n",
              "2020-04-09    0\n",
              "2020-04-13    0\n",
              "2020-04-15    8\n",
              "             ..\n",
              "2020-09-29    0\n",
              "2020-09-30    0\n",
              "2020-10-01    0\n",
              "2020-10-02    0\n",
              "2020-10-14    0\n",
              "Name: sent, Length: 70, dtype: int64"
            ]
          },
          "metadata": {
            "tags": []
          },
          "execution_count": 51
        }
      ]
    },
    {
      "cell_type": "markdown",
      "metadata": {
        "id": "9v2EwxyF2dVY"
      },
      "source": [
        "## Backtesting\n",
        "https://backtrader.com/docu/quickstart/quickstart/"
      ]
    },
    {
      "cell_type": "code",
      "metadata": {
        "id": "eGladAwQ-uHy",
        "outputId": "5c64c78f-dfbd-454d-8d54-d329af3efaeb",
        "colab": {
          "base_uri": "https://localhost:8080/",
          "height": 102
        }
      },
      "source": [
        "!pip install backtrader"
      ],
      "execution_count": null,
      "outputs": [
        {
          "output_type": "stream",
          "text": [
            "Collecting backtrader\n",
            "\u001b[?25l  Downloading https://files.pythonhosted.org/packages/1a/bf/78aadd993e2719d6764603465fde163ba6ec15cf0e81f13e39ca13451348/backtrader-1.9.76.123-py2.py3-none-any.whl (410kB)\n",
            "\r\u001b[K     |▉                               | 10kB 25.1MB/s eta 0:00:01\r\u001b[K     |█▋                              | 20kB 21.4MB/s eta 0:00:01\r\u001b[K     |██▍                             | 30kB 26.1MB/s eta 0:00:01\r\u001b[K     |███▏                            | 40kB 14.5MB/s eta 0:00:01\r\u001b[K     |████                            | 51kB 12.6MB/s eta 0:00:01\r\u001b[K     |████▉                           | 61kB 11.3MB/s eta 0:00:01\r\u001b[K     |█████▋                          | 71kB 11.7MB/s eta 0:00:01\r\u001b[K     |██████▍                         | 81kB 11.7MB/s eta 0:00:01\r\u001b[K     |███████▏                        | 92kB 10.7MB/s eta 0:00:01\r\u001b[K     |████████                        | 102kB 10.7MB/s eta 0:00:01\r\u001b[K     |████████▉                       | 112kB 10.7MB/s eta 0:00:01\r\u001b[K     |█████████▋                      | 122kB 10.7MB/s eta 0:00:01\r\u001b[K     |██████████▍                     | 133kB 10.7MB/s eta 0:00:01\r\u001b[K     |███████████▏                    | 143kB 10.7MB/s eta 0:00:01\r\u001b[K     |████████████                    | 153kB 10.7MB/s eta 0:00:01\r\u001b[K     |████████████▉                   | 163kB 10.7MB/s eta 0:00:01\r\u001b[K     |█████████████▋                  | 174kB 10.7MB/s eta 0:00:01\r\u001b[K     |██████████████▍                 | 184kB 10.7MB/s eta 0:00:01\r\u001b[K     |███████████████▏                | 194kB 10.7MB/s eta 0:00:01\r\u001b[K     |████████████████                | 204kB 10.7MB/s eta 0:00:01\r\u001b[K     |████████████████▉               | 215kB 10.7MB/s eta 0:00:01\r\u001b[K     |█████████████████▋              | 225kB 10.7MB/s eta 0:00:01\r\u001b[K     |██████████████████▍             | 235kB 10.7MB/s eta 0:00:01\r\u001b[K     |███████████████████▏            | 245kB 10.7MB/s eta 0:00:01\r\u001b[K     |████████████████████            | 256kB 10.7MB/s eta 0:00:01\r\u001b[K     |████████████████████▊           | 266kB 10.7MB/s eta 0:00:01\r\u001b[K     |█████████████████████▋          | 276kB 10.7MB/s eta 0:00:01\r\u001b[K     |██████████████████████▍         | 286kB 10.7MB/s eta 0:00:01\r\u001b[K     |███████████████████████▏        | 296kB 10.7MB/s eta 0:00:01\r\u001b[K     |████████████████████████        | 307kB 10.7MB/s eta 0:00:01\r\u001b[K     |████████████████████████▊       | 317kB 10.7MB/s eta 0:00:01\r\u001b[K     |█████████████████████████▋      | 327kB 10.7MB/s eta 0:00:01\r\u001b[K     |██████████████████████████▍     | 337kB 10.7MB/s eta 0:00:01\r\u001b[K     |███████████████████████████▏    | 348kB 10.7MB/s eta 0:00:01\r\u001b[K     |████████████████████████████    | 358kB 10.7MB/s eta 0:00:01\r\u001b[K     |████████████████████████████▊   | 368kB 10.7MB/s eta 0:00:01\r\u001b[K     |█████████████████████████████▋  | 378kB 10.7MB/s eta 0:00:01\r\u001b[K     |██████████████████████████████▍ | 389kB 10.7MB/s eta 0:00:01\r\u001b[K     |███████████████████████████████▏| 399kB 10.7MB/s eta 0:00:01\r\u001b[K     |████████████████████████████████| 409kB 10.7MB/s eta 0:00:01\r\u001b[K     |████████████████████████████████| 419kB 10.7MB/s \n",
            "\u001b[?25hInstalling collected packages: backtrader\n",
            "Successfully installed backtrader-1.9.76.123\n"
          ],
          "name": "stdout"
        }
      ]
    },
    {
      "cell_type": "code",
      "metadata": {
        "id": "JV0vvnAd_CWD"
      },
      "source": [
        "from __future__ import (absolute_import, division, print_function,\n",
        "                        unicode_literals)\n",
        "\n",
        "import datetime  # For datetime objects\n",
        "import os.path  # To manage paths\n",
        "import sys  # To find out the script name (in argv[0])\n",
        "\n",
        "# Import the backtrader platform\n",
        "import backtrader as bt\n",
        "\n",
        "\n",
        "# Create a Stratey\n",
        "class TestStrategy(bt.Strategy):\n",
        "    params = (\n",
        "        ('exitbars', 0),\n",
        "    )\n",
        "\n",
        "    def log(self, txt, dt=None):\n",
        "        ''' Logging function fot this strategy'''\n",
        "        dt = dt or self.datas[0].datetime.date(0)\n",
        "        print('%s, %s' % (dt.isoformat(), txt))\n",
        "\n",
        "    def __init__(self):\n",
        "        # Keep a reference to the \"close\" line in the data[0] dataseries\n",
        "        self.dataclose = self.datas[0].close\n",
        "        self.datasent = self.datas[0].sent\n",
        "\n",
        "        # To keep track of pending orders and buy price/commission\n",
        "        self.order = None\n",
        "        self.buyprice = None\n",
        "        self.buycomm = None\n",
        "\n",
        "    def notify_order(self, order):\n",
        "        if order.status in [order.Submitted, order.Accepted]:\n",
        "            # Buy/Sell order submitted/accepted to/by broker - Nothing to do\n",
        "            return\n",
        "\n",
        "        # Check if an order has been completed\n",
        "        # Attention: broker could reject order if not enough cash\n",
        "        if order.status in [order.Completed]:\n",
        "            if order.isbuy():\n",
        "                self.log(\n",
        "                    'BUY EXECUTED, Price: %.2f, Cost: %.2f, Comm %.2f' %\n",
        "                    (order.executed.price,\n",
        "                     order.executed.value,\n",
        "                     order.executed.comm))\n",
        "\n",
        "                self.buyprice = order.executed.price\n",
        "                self.buycomm = order.executed.comm\n",
        "            else:  # Sell\n",
        "                self.log('SELL EXECUTED, Price: %.2f, Cost: %.2f, Comm %.2f' %\n",
        "                         (order.executed.price,\n",
        "                          order.executed.value,\n",
        "                          order.executed.comm))\n",
        "\n",
        "            self.bar_executed = len(self)\n",
        "\n",
        "        elif order.status in [order.Canceled, order.Margin, order.Rejected]:\n",
        "            self.log('Order Canceled/Margin/Rejected')\n",
        "\n",
        "        self.order = None\n",
        "\n",
        "    def notify_trade(self, trade):\n",
        "        if not trade.isclosed:\n",
        "            return\n",
        "\n",
        "        self.log('OPERATION PROFIT, GROSS %.2f, NET %.2f' %\n",
        "                 (trade.pnl, trade.pnlcomm))\n",
        "\n",
        "    def next(self):\n",
        "        # Simply log the closing price of the series from the reference\n",
        "        self.log('Close, %.2f' % self.dataclose[0])\n",
        "\n",
        "        # Check if an order is pending ... if yes, we cannot send a 2nd one\n",
        "        if self.order:\n",
        "            return\n",
        "\n",
        "        # Check if we are in the market\n",
        "        if not self.position:\n",
        "\n",
        "            # Not yet ... we MIGHT BUY if ...\n",
        "            if self.datasent[0] >2:\n",
        "              # BUY, BUY, BUY!!! (with default parameters)\n",
        "              self.log('BUY CREATE, %.2f' % self.dataclose[0])\n",
        "\n",
        "              # Keep track of the created order to avoid a 2nd order\n",
        "              self.order = self.buy()\n",
        "\n",
        "        else:\n",
        "\n",
        "            # Already in the market ... we might sell\n",
        "            if len(self) >= (self.bar_executed + self.params.exitbars):\n",
        "                # SELL, SELL, SELL!!! (with all possible default parameters)\n",
        "                self.log('SELL CREATE, %.2f' % self.dataclose[0])\n",
        "\n",
        "                # Keep track of the created order to avoid a 2nd order\n",
        "                self.order = self.sell()\n",
        "\n"
      ],
      "execution_count": null,
      "outputs": []
    },
    {
      "cell_type": "code",
      "metadata": {
        "id": "tfbI8-rN_cg5",
        "outputId": "57c189eb-2b2f-4474-8d61-c575e1162327",
        "colab": {
          "base_uri": "https://localhost:8080/",
          "height": 142
        }
      },
      "source": [
        "yf=pd.read_csv(dir+'AWX_SI.csv')\n",
        "yf.Date=pd.to_datetime(yf['Date'])\n",
        "yf.set_index('Date',inplace=True)\n",
        "\n",
        "comb=yf.merge(sent,left_index=True,right_index=True,how='left').fillna(0)\n",
        "comb.head(2)"
      ],
      "execution_count": null,
      "outputs": [
        {
          "output_type": "execute_result",
          "data": {
            "text/html": [
              "<div>\n",
              "<style scoped>\n",
              "    .dataframe tbody tr th:only-of-type {\n",
              "        vertical-align: middle;\n",
              "    }\n",
              "\n",
              "    .dataframe tbody tr th {\n",
              "        vertical-align: top;\n",
              "    }\n",
              "\n",
              "    .dataframe thead th {\n",
              "        text-align: right;\n",
              "    }\n",
              "</style>\n",
              "<table border=\"1\" class=\"dataframe\">\n",
              "  <thead>\n",
              "    <tr style=\"text-align: right;\">\n",
              "      <th></th>\n",
              "      <th>Open</th>\n",
              "      <th>High</th>\n",
              "      <th>Low</th>\n",
              "      <th>Close</th>\n",
              "      <th>Adj Close</th>\n",
              "      <th>Volume</th>\n",
              "      <th>sent</th>\n",
              "    </tr>\n",
              "    <tr>\n",
              "      <th>Date</th>\n",
              "      <th></th>\n",
              "      <th></th>\n",
              "      <th></th>\n",
              "      <th></th>\n",
              "      <th></th>\n",
              "      <th></th>\n",
              "      <th></th>\n",
              "    </tr>\n",
              "  </thead>\n",
              "  <tbody>\n",
              "    <tr>\n",
              "      <th>2020-01-02</th>\n",
              "      <td>2.04</td>\n",
              "      <td>2.10</td>\n",
              "      <td>2.04</td>\n",
              "      <td>2.09</td>\n",
              "      <td>2.023888</td>\n",
              "      <td>9308500</td>\n",
              "      <td>0.0</td>\n",
              "    </tr>\n",
              "    <tr>\n",
              "      <th>2020-01-03</th>\n",
              "      <td>2.10</td>\n",
              "      <td>2.12</td>\n",
              "      <td>2.04</td>\n",
              "      <td>2.04</td>\n",
              "      <td>1.975469</td>\n",
              "      <td>7326800</td>\n",
              "      <td>0.0</td>\n",
              "    </tr>\n",
              "  </tbody>\n",
              "</table>\n",
              "</div>"
            ],
            "text/plain": [
              "            Open  High   Low  Close  Adj Close   Volume  sent\n",
              "Date                                                         \n",
              "2020-01-02  2.04  2.10  2.04   2.09   2.023888  9308500   0.0\n",
              "2020-01-03  2.10  2.12  2.04   2.04   1.975469  7326800   0.0"
            ]
          },
          "metadata": {
            "tags": []
          },
          "execution_count": 87
        }
      ]
    },
    {
      "cell_type": "code",
      "metadata": {
        "id": "shZjNzaUAdeg"
      },
      "source": [
        "class PandasSent(bt.feeds.PandasData):\n",
        "  lines=(('sent'),)\n",
        "  params=(('sent',-1),)"
      ],
      "execution_count": null,
      "outputs": []
    },
    {
      "cell_type": "code",
      "metadata": {
        "id": "Us1YdxA2_CSh",
        "outputId": "2a1ec92c-bc48-4876-e794-c74c3a311612",
        "colab": {
          "base_uri": "https://localhost:8080/",
          "height": 1000
        }
      },
      "source": [
        "if __name__ == '__main__':\n",
        "    # Create a cerebro entity\n",
        "    cerebro = bt.Cerebro()\n",
        "\n",
        "    # Add a strategy\n",
        "    cerebro.addstrategy(TestStrategy)\n",
        "\n",
        "    data = PandasSent(dataname=comb)\n",
        "\n",
        "    # Add the Data Feed to Cerebro\n",
        "    cerebro.adddata(data)\n",
        "\n",
        "    # Set our desired cash start\n",
        "    cerebro.broker.setcash(100000.0)\n",
        "\n",
        "    # Add a FixedSize sizer according to the stake\n",
        "    cerebro.addsizer(bt.sizers.FixedSize, stake=100)\n",
        "\n",
        "    # Set the commission - 0.1% ... divide by 100 to remove the %\n",
        "    cerebro.broker.setcommission(commission=0.001)\n",
        "\n",
        "    # Print out the starting conditions\n",
        "    print('Starting Portfolio Value: %.2f' % cerebro.broker.getvalue())\n",
        "\n",
        "    # Run over everything\n",
        "    cerebro.run()\n",
        "\n",
        "    # Print out the final result\n",
        "    print('Final Portfolio Value: %.2f' % cerebro.broker.getvalue())"
      ],
      "execution_count": null,
      "outputs": [
        {
          "output_type": "stream",
          "text": [
            "Starting Portfolio Value: 100000.00\n",
            "2020-01-02, Close, 2.09\n",
            "2020-01-03, Close, 2.04\n",
            "2020-01-06, Close, 1.98\n",
            "2020-01-07, Close, 2.04\n",
            "2020-01-08, Close, 2.00\n",
            "2020-01-09, Close, 2.05\n",
            "2020-01-10, Close, 2.18\n",
            "2020-01-13, Close, 2.19\n",
            "2020-01-14, Close, 2.16\n",
            "2020-01-15, Close, 2.16\n",
            "2020-01-16, Close, 2.18\n",
            "2020-01-17, Close, 2.16\n",
            "2020-01-20, Close, 2.13\n",
            "2020-01-21, Close, 2.08\n",
            "2020-01-22, Close, 2.13\n",
            "2020-01-23, Close, 2.05\n",
            "2020-01-24, Close, 2.11\n",
            "2020-01-28, Close, 2.01\n",
            "2020-01-29, Close, 2.02\n",
            "2020-01-30, Close, 1.93\n",
            "2020-01-31, Close, 1.90\n",
            "2020-02-03, Close, 1.89\n",
            "2020-02-04, Close, 1.95\n",
            "2020-02-05, Close, 1.94\n",
            "2020-02-06, Close, 1.96\n",
            "2020-02-07, Close, 1.87\n",
            "2020-02-10, Close, 1.88\n",
            "2020-02-11, Close, 1.95\n",
            "2020-02-12, Close, 2.01\n",
            "2020-02-13, Close, 2.04\n",
            "2020-02-14, Close, 2.06\n",
            "2020-02-17, Close, 2.14\n",
            "2020-02-18, Close, 2.17\n",
            "2020-02-19, Close, 2.22\n",
            "2020-02-20, Close, 2.27\n",
            "2020-02-21, Close, 2.23\n",
            "2020-02-24, Close, 2.09\n",
            "2020-02-25, Close, 2.21\n",
            "2020-02-26, Close, 2.17\n",
            "2020-02-27, Close, 2.24\n",
            "2020-02-28, Close, 2.13\n",
            "2020-03-02, Close, 2.22\n",
            "2020-03-03, Close, 2.18\n",
            "2020-03-04, Close, 2.17\n",
            "2020-03-05, Close, 2.09\n",
            "2020-03-06, Close, 2.04\n",
            "2020-03-09, Close, 1.83\n",
            "2020-03-10, Close, 1.96\n",
            "2020-03-11, Close, 1.86\n",
            "2020-03-12, Close, 1.72\n",
            "2020-03-13, Close, 1.71\n",
            "2020-03-16, Close, 1.59\n",
            "2020-03-17, Close, 1.61\n",
            "2020-03-18, Close, 1.61\n",
            "2020-03-19, Close, 1.37\n",
            "2020-03-20, Close, 1.57\n",
            "2020-03-23, Close, 1.43\n",
            "2020-03-24, Close, 1.54\n",
            "2020-03-25, Close, 1.67\n",
            "2020-03-26, Close, 1.64\n",
            "2020-03-27, Close, 1.64\n",
            "2020-03-30, Close, 1.64\n",
            "2020-03-31, Close, 1.67\n",
            "2020-04-01, Close, 1.64\n",
            "2020-04-02, Close, 1.71\n",
            "2020-04-03, Close, 1.67\n",
            "2020-04-06, Close, 1.73\n",
            "2020-04-07, Close, 1.92\n",
            "2020-04-08, Close, 1.96\n",
            "2020-04-09, Close, 1.99\n",
            "2020-04-13, Close, 1.94\n",
            "2020-04-14, Close, 2.02\n",
            "2020-04-15, Close, 1.99\n",
            "2020-04-15, BUY CREATE, 1.99\n",
            "2020-04-16, BUY EXECUTED, Price: 1.98, Cost: 198.00, Comm 0.20\n",
            "2020-04-16, Close, 2.04\n",
            "2020-04-16, SELL CREATE, 2.04\n",
            "2020-04-17, SELL EXECUTED, Price: 2.10, Cost: 198.00, Comm 0.21\n",
            "2020-04-17, OPERATION PROFIT, GROSS 12.00, NET 11.59\n",
            "2020-04-17, Close, 2.11\n",
            "2020-04-20, Close, 2.12\n",
            "2020-04-21, Close, 2.08\n",
            "2020-04-22, Close, 2.13\n",
            "2020-04-23, Close, 2.17\n",
            "2020-04-24, Close, 2.14\n",
            "2020-04-27, Close, 2.16\n",
            "2020-04-28, Close, 2.18\n",
            "2020-04-28, BUY CREATE, 2.18\n",
            "2020-04-29, BUY EXECUTED, Price: 2.26, Cost: 226.00, Comm 0.23\n",
            "2020-04-29, Close, 2.37\n",
            "2020-04-29, SELL CREATE, 2.37\n",
            "2020-04-30, SELL EXECUTED, Price: 2.43, Cost: 226.00, Comm 0.24\n",
            "2020-04-30, OPERATION PROFIT, GROSS 17.00, NET 16.53\n",
            "2020-04-30, Close, 2.45\n",
            "2020-05-04, Close, 2.37\n",
            "2020-05-05, Close, 2.53\n",
            "2020-05-06, Close, 2.58\n",
            "2020-05-08, Close, 3.08\n",
            "2020-05-11, Close, 3.17\n",
            "2020-05-12, Close, 3.09\n",
            "2020-05-13, Close, 3.15\n",
            "2020-05-14, Close, 3.16\n",
            "2020-05-15, Close, 3.11\n",
            "2020-05-18, Close, 3.02\n",
            "2020-05-19, Close, 3.11\n",
            "2020-05-20, Close, 3.11\n",
            "2020-05-20, BUY CREATE, 3.11\n",
            "2020-05-21, BUY EXECUTED, Price: 3.14, Cost: 314.00, Comm 0.31\n",
            "2020-05-21, Close, 3.06\n",
            "2020-05-21, SELL CREATE, 3.06\n",
            "2020-05-22, SELL EXECUTED, Price: 3.06, Cost: 314.00, Comm 0.31\n",
            "2020-05-22, OPERATION PROFIT, GROSS -8.00, NET -8.62\n",
            "2020-05-22, Close, 2.96\n",
            "2020-05-26, Close, 3.16\n",
            "2020-05-27, Close, 3.13\n",
            "2020-05-28, Close, 3.11\n",
            "2020-05-29, Close, 3.06\n",
            "2020-06-01, Close, 3.12\n",
            "2020-06-02, Close, 3.14\n",
            "2020-06-03, Close, 3.08\n",
            "2020-06-04, Close, 3.13\n",
            "2020-06-05, Close, 3.27\n",
            "2020-06-08, Close, 3.23\n",
            "2020-06-09, Close, 3.09\n",
            "2020-06-10, Close, 3.13\n",
            "2020-06-11, Close, 3.05\n",
            "2020-06-12, Close, 3.10\n",
            "2020-06-15, Close, 2.99\n",
            "2020-06-16, Close, 3.14\n",
            "2020-06-17, Close, 3.11\n",
            "2020-06-18, Close, 3.10\n",
            "2020-06-19, Close, 3.07\n",
            "2020-06-22, Close, 3.08\n",
            "2020-06-23, Close, 3.04\n",
            "2020-06-24, Close, 3.03\n",
            "2020-06-25, Close, 3.00\n",
            "2020-06-26, Close, 3.00\n",
            "2020-06-29, Close, 2.93\n",
            "2020-06-30, Close, 3.14\n",
            "2020-07-01, Close, 3.17\n",
            "2020-07-02, Close, 3.15\n",
            "2020-07-03, Close, 3.16\n",
            "2020-07-06, Close, 3.31\n",
            "2020-07-07, Close, 3.23\n",
            "2020-07-08, Close, 3.28\n",
            "2020-07-09, Close, 3.24\n",
            "2020-07-13, Close, 3.21\n",
            "2020-07-14, Close, 3.07\n",
            "2020-07-15, Close, 3.07\n",
            "2020-07-16, Close, 3.02\n",
            "2020-07-17, Close, 3.11\n",
            "2020-07-20, Close, 3.20\n",
            "2020-07-21, Close, 3.77\n",
            "2020-07-22, Close, 3.58\n",
            "2020-07-23, Close, 3.68\n",
            "2020-07-24, Close, 3.51\n",
            "2020-07-27, Close, 3.46\n",
            "2020-07-28, Close, 3.49\n",
            "2020-07-29, Close, 3.52\n",
            "2020-07-30, Close, 3.57\n",
            "2020-08-03, Close, 3.66\n",
            "2020-08-03, BUY CREATE, 3.66\n",
            "2020-08-04, BUY EXECUTED, Price: 3.96, Cost: 396.00, Comm 0.40\n",
            "2020-08-04, Close, 4.19\n",
            "2020-08-04, SELL CREATE, 4.19\n",
            "2020-08-05, SELL EXECUTED, Price: 4.23, Cost: 396.00, Comm 0.42\n",
            "2020-08-05, OPERATION PROFIT, GROSS 27.00, NET 26.18\n",
            "2020-08-05, Close, 4.18\n",
            "2020-08-06, Close, 4.29\n",
            "2020-08-07, Close, 4.22\n",
            "2020-08-11, Close, 4.20\n",
            "2020-08-12, Close, 4.15\n",
            "2020-08-13, Close, 4.15\n",
            "2020-08-14, Close, 4.05\n",
            "2020-08-17, Close, 4.02\n",
            "2020-08-18, Close, 4.00\n",
            "2020-08-19, Close, 4.08\n",
            "2020-08-20, Close, 4.00\n",
            "2020-08-21, Close, 4.05\n",
            "2020-08-24, Close, 4.18\n",
            "2020-08-25, Close, 4.05\n",
            "2020-08-26, Close, 4.09\n",
            "2020-08-27, Close, 4.09\n",
            "2020-08-28, Close, 4.09\n",
            "2020-08-31, Close, 4.02\n",
            "2020-09-01, Close, 4.08\n",
            "2020-09-02, Close, 4.18\n",
            "2020-09-03, Close, 4.05\n",
            "2020-09-04, Close, 3.90\n",
            "2020-09-07, Close, 3.84\n",
            "2020-09-08, Close, 3.76\n",
            "2020-09-09, Close, 3.71\n",
            "2020-09-10, Close, 3.29\n",
            "2020-09-11, Close, 3.63\n",
            "2020-09-14, Close, 3.63\n",
            "2020-09-15, Close, 3.62\n",
            "2020-09-16, Close, 3.60\n",
            "2020-09-17, Close, 3.59\n",
            "2020-09-18, Close, 3.66\n",
            "2020-09-21, Close, 3.50\n",
            "2020-09-22, Close, 3.55\n",
            "2020-09-23, Close, 3.57\n",
            "2020-09-24, Close, 3.52\n",
            "2020-09-25, Close, 3.45\n",
            "2020-09-28, Close, 3.43\n",
            "2020-09-29, Close, 3.63\n",
            "2020-09-30, Close, 3.85\n",
            "2020-10-01, Close, 3.71\n",
            "2020-10-02, Close, 3.55\n",
            "2020-10-05, Close, 3.57\n",
            "2020-10-06, Close, 3.62\n",
            "2020-10-07, Close, 3.70\n",
            "2020-10-08, Close, 3.68\n",
            "2020-10-09, Close, 3.65\n",
            "2020-10-12, Close, 3.68\n",
            "2020-10-13, Close, 3.64\n",
            "2020-10-14, Close, 3.69\n",
            "2020-10-15, Close, 3.59\n",
            "2020-10-16, Close, 3.62\n",
            "2020-10-19, Close, 3.59\n",
            "Final Portfolio Value: 100045.68\n"
          ],
          "name": "stdout"
        }
      ]
    },
    {
      "cell_type": "code",
      "metadata": {
        "id": "6iC5X_ti_Bqz",
        "outputId": "32a8f03b-0bfe-49ba-feda-c9f23c2f4f9e",
        "colab": {
          "base_uri": "https://localhost:8080/",
          "height": 325
        }
      },
      "source": [
        "cerebro.plot(iplot=False)"
      ],
      "execution_count": null,
      "outputs": [
        {
          "output_type": "display_data",
          "data": {
            "image/png": "[encoded data removed]",
            "text/plain": [
              "<Figure size 432x288 with 4 Axes>"
            ]
          },
          "metadata": {
            "tags": [],
            "needs_background": "light"
          }
        },
        {
          "output_type": "execute_result",
          "data": {
            "text/plain": [
              "[[<Figure size 432x288 with 4 Axes>]]"
            ]
          },
          "metadata": {
            "tags": []
          },
          "execution_count": 90
        }
      ]
    },
    {
      "cell_type": "code",
      "metadata": {
        "id": "l1U07COh_BnS",
        "outputId": "929da742-c6b4-4bcd-8af8-d0f4d332f1cb",
        "colab": {
          "base_uri": "https://localhost:8080/",
          "height": 221
        }
      },
      "source": [
        "sent.sort_values(ascending=False)[:10]"
      ],
      "execution_count": null,
      "outputs": [
        {
          "output_type": "execute_result",
          "data": {
            "text/plain": [
              "date\n",
              "2020-08-03    10\n",
              "2020-04-15     8\n",
              "2020-04-28     4\n",
              "2020-05-20     4\n",
              "2020-08-24     2\n",
              "2020-07-22     2\n",
              "2020-06-09     2\n",
              "2020-04-19     2\n",
              "2020-05-21     2\n",
              "2020-05-14     0\n",
              "Name: sent, dtype: int64"
            ]
          },
          "metadata": {
            "tags": []
          },
          "execution_count": 85
        }
      ]
    },
    {
      "cell_type": "code",
      "metadata": {
        "id": "6404f3af_Bjm"
      },
      "source": [
        ""
      ],
      "execution_count": null,
      "outputs": []
    },
    {
      "cell_type": "code",
      "metadata": {
        "id": "64v-1WFB_Bfu"
      },
      "source": [
        ""
      ],
      "execution_count": null,
      "outputs": []
    },
    {
      "cell_type": "code",
      "metadata": {
        "id": "PU6cXPO6_AvY"
      },
      "source": [
        ""
      ],
      "execution_count": null,
      "outputs": []
    },
    {
      "cell_type": "code",
      "metadata": {
        "id": "TLtH2SdZ2dRI"
      },
      "source": [
        ""
      ],
      "execution_count": null,
      "outputs": []
    },
    {
      "cell_type": "code",
      "metadata": {
        "id": "kCE5joq_2dEe"
      },
      "source": [
        ""
      ],
      "execution_count": null,
      "outputs": []
    }
  ]
}